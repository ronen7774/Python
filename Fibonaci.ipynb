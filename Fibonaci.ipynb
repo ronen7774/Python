{
  "nbformat": 4,
  "nbformat_minor": 0,
  "metadata": {
    "colab": {
      "provenance": [],
      "authorship_tag": "ABX9TyOTGinsOVS/ZZzSE7Q0HjoQ",
      "include_colab_link": true
    },
    "kernelspec": {
      "name": "python3",
      "display_name": "Python 3"
    },
    "language_info": {
      "name": "python"
    }
  },
  "cells": [
    {
      "cell_type": "markdown",
      "metadata": {
        "id": "view-in-github",
        "colab_type": "text"
      },
      "source": [
        "<a href=\"https://colab.research.google.com/github/ronen7774/Python/blob/main/Fibonaci.ipynb\" target=\"_parent\"><img src=\"https://colab.research.google.com/assets/colab-badge.svg\" alt=\"Open In Colab\"/></a>"
      ]
    },
    {
      "cell_type": "code",
      "execution_count": null,
      "metadata": {
        "id": "SeTAzOni8Txn"
      },
      "outputs": [],
      "source": [
        "fib_number = -1\n",
        "previous_number = []\n",
        "\n",
        "for n in range (1,11):\n",
        "  if n < 3:\n",
        "    fib_number = 1\n",
        "    previous_number.append(fib_number)\n",
        "  else:\n",
        "    fib_number = (previous_number[n-2]+previous_number[n-3])\n",
        "    previous_number.append(fib_number)\n",
        "#print(previous_number)\n",
        "\n",
        "\n",
        "\n",
        "  print(\"n: \",n,\"Fibonaci: \",fib_number)"
      ]
    }
  ]
}