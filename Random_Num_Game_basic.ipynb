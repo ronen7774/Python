{
  "nbformat": 4,
  "nbformat_minor": 0,
  "metadata": {
    "colab": {
      "provenance": [],
      "authorship_tag": "ABX9TyM9hqEe+DWYQCgMC9d2+gTl",
      "include_colab_link": true
    },
    "kernelspec": {
      "name": "python3",
      "display_name": "Python 3"
    },
    "language_info": {
      "name": "python"
    }
  },
  "cells": [
    {
      "cell_type": "markdown",
      "metadata": {
        "id": "view-in-github",
        "colab_type": "text"
      },
      "source": [
        "<a href=\"https://colab.research.google.com/github/ronen7774/Python/blob/main/Random_Num_Game_basic.ipynb\" target=\"_parent\"><img src=\"https://colab.research.google.com/assets/colab-badge.svg\" alt=\"Open In Colab\"/></a>"
      ]
    },
    {
      "cell_type": "code",
      "source": [
        "# call random\n",
        "from random import randint\n",
        "\n",
        "# define a var that contain the text, in order to create a unique text for all the code\n",
        "text = \"Guess a number dude: \"\n",
        "\n",
        "\n",
        "# define variables with input func & randint and limitation of tries\n",
        "user_guess = 0\n",
        "computer_numer = randint(1,100)\n",
        "attempts_left = 5\n",
        "\n",
        "\n",
        "while user_guess != computer_numer and attempts_left < 0:\n",
        "  user_guess = int(input(text))\n",
        "  if user_guess > computer_numer:\n",
        "     print('Number is too high')\n",
        "  elif user_guess < computer_numer:\n",
        "    print('Number is too low')\n",
        "  attempts_left -= 1\n",
        "\n",
        "# gives a text if we lose or won\n",
        "if attempts_left == 0:\n",
        "  print('Game Over')\n",
        "else:\n",
        "  print('You Won!!!')\n",
        ""
      ],
      "metadata": {
        "colab": {
          "base_uri": "https://localhost:8080/"
        },
        "id": "fCnfeXsJubm-",
        "outputId": "e1be3527-8f53-4405-af97-dc68da5bfca5"
      },
      "execution_count": 26,
      "outputs": [
        {
          "output_type": "stream",
          "name": "stdout",
          "text": [
            "Guess a number dude: 50\n",
            "Number is too high\n",
            "Guess a number dude: 25\n",
            "Number is too low\n",
            "Guess a number dude: 40\n",
            "You Won!!!\n"
          ]
        }
      ]
    },
    {
      "cell_type": "code",
      "source": [],
      "metadata": {
        "id": "oMjHC3c9vMr9"
      },
      "execution_count": null,
      "outputs": []
    }
  ]
}